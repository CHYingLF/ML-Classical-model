{
 "cells": [
  {
   "cell_type": "code",
   "execution_count": 6,
   "id": "oriented-constitution",
   "metadata": {},
   "outputs": [
    {
     "name": "stdout",
     "output_type": "stream",
     "text": [
      "Cross-validation (accuracy) [0.91944444 0.98611111 0.97214485 0.97493036 0.96935933]\n",
      "Cross-validation (AUC) [0.9641871  0.9976571  0.99372205 0.99699002 0.98675611]\n",
      "Cross-validation (recall) [0.81081081 0.89189189 0.83333333 0.83333333 0.83333333]\n"
     ]
    }
   ],
   "source": [
    "from sklearn.model_selection import cross_val_score\n",
    "from sklearn.svm import SVC\n",
    "from sklearn import datasets\n",
    "\n",
    "dataset=datasets.load_digits()\n",
    "\n",
    "X,y = dataset.data, dataset.target == 1\n",
    "clf = SVC(kernel='linear', C=1)\n",
    "\n",
    "#divide dataset into 5 groups\n",
    "#accuracy is the default scoring metric\n",
    "print('Cross-validation (accuracy)',cross_val_score(clf, X,y, cv=5))\n",
    "#Use AUC as scoring metric\n",
    "print('Cross-validation (AUC)', cross_val_score(clf,X,y,cv=5, scoring='roc_auc'))\n",
    "#use recall as scoring metric\n",
    "print('Cross-validation (recall)',cross_val_score(clf,X,y,cv=5,scoring='recall'))"
   ]
  }
 ],
 "metadata": {
  "kernelspec": {
   "display_name": "Python 3",
   "language": "python",
   "name": "python3"
  },
  "language_info": {
   "codemirror_mode": {
    "name": "ipython",
    "version": 3
   },
   "file_extension": ".py",
   "mimetype": "text/x-python",
   "name": "python",
   "nbconvert_exporter": "python",
   "pygments_lexer": "ipython3",
   "version": "3.8.3"
  }
 },
 "nbformat": 4,
 "nbformat_minor": 5
}
