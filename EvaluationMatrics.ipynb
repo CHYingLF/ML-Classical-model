{
 "cells": [
  {
   "cell_type": "code",
   "execution_count": 5,
   "id": "american-transport",
   "metadata": {},
   "outputs": [],
   "source": [
    "%matplotlib notebook\n",
    "import numpy as np\n",
    "import matplotlib.pyplot as plt\n",
    "from sklearn.model_selection import train_test_split\n",
    "from sklearn.datasets import load_digits\n",
    "\n",
    "dataset=load_digits()\n",
    "\n",
    "X, y=dataset.data, dataset.target\n",
    " \n",
    "y_binary_imbalanced =y.copy() #copy data without link address\n",
    "y_binary_imbalanced[y_binary_imbalanced !=1]=0\n",
    "\n",
    "X_train, X_test, y_train, y_test =train_test_split(X,y_binary_imbalanced,random_state=0)"
   ]
  },
  {
   "cell_type": "code",
   "execution_count": 24,
   "id": "based-welding",
   "metadata": {},
   "outputs": [
    {
     "name": "stdout",
     "output_type": "stream",
     "text": [
      "Confusion matrix for logistic regression:\n",
      " [[401   6]\n",
      " [  6  37]]\n"
     ]
    }
   ],
   "source": [
    "from sklearn.linear_model import LogisticRegression\n",
    "from sklearn.metrics import confusion_matrix\n",
    "\n",
    "lr=LogisticRegression(solver='liblinear').fit(X_train,y_train)\n",
    "y_logistic_pred=lr.predict(X_test)\n",
    "confusion_logistic=confusion_matrix(y_logistic_pred,y_test)\n",
    "\n",
    "print('Confusion matrix for logistic regression:\\n',confusion_logistic)"
   ]
  },
  {
   "cell_type": "code",
   "execution_count": 25,
   "id": "official-wesley",
   "metadata": {},
   "outputs": [
    {
     "name": "stdout",
     "output_type": "stream",
     "text": [
      "Confusion matrix for svm:\n",
      " [[407   2]\n",
      " [  0  41]]\n"
     ]
    }
   ],
   "source": [
    "from sklearn.svm import SVC\n",
    "\n",
    "svm=SVC(kernel='rbf',C=1).fit(X_train,y_train)\n",
    "y_svm_pred=svm.predict(X_test)\n",
    "confusion_svm=confusion_matrix(y_svm_pred,y_test)\n",
    "\n",
    "print('Confusion matrix for svm:\\n',confusion_svm)"
   ]
  },
  {
   "cell_type": "markdown",
   "id": "final-directive",
   "metadata": {},
   "source": [
    "#### Evaluation metrics"
   ]
  },
  {
   "cell_type": "code",
   "execution_count": 28,
   "id": "ethical-newman",
   "metadata": {},
   "outputs": [
    {
     "name": "stdout",
     "output_type": "stream",
     "text": [
      "---Logistic---\n",
      "Confusion matrix:\n",
      " [[401   6]\n",
      " [  6  37]]\n",
      "Accuracy:0.97\n",
      "Precision:0.86\n",
      "Recall:0.86\n",
      "F1:0.86\n"
     ]
    }
   ],
   "source": [
    "from sklearn.metrics import accuracy_score, precision_score, recall_score, f1_score\n",
    "#Accuracy=(TP+TN)/(TP+TN+FP+FN)\n",
    "#Precision=TP/(TP+FP)\n",
    "#Recall=TP/(TP+FN)\n",
    "#F1=2*Precision*Recall/(Precision+Recall)\n",
    "\n",
    "print('---Logistic---')\n",
    "print('Confusion matrix:\\n',confusion_logistic)\n",
    "print('Accuracy:{:.2f}'.format(accuracy_score(y_test,y_logistic_pred)))\n",
    "print('Precision:{:.2f}'.format(precision_score(y_test,y_logistic_pred)))\n",
    "print('Recall:{:.2f}'.format(recall_score(y_test,y_logistic_pred)))\n",
    "print('F1:{:.2f}'.format(f1_score(y_test,y_logistic_pred)))\n",
    "\n",
    "\n"
   ]
  },
  {
   "cell_type": "code",
   "execution_count": 29,
   "id": "direct-express",
   "metadata": {},
   "outputs": [
    {
     "name": "stdout",
     "output_type": "stream",
     "text": [
      "---svm---\n",
      "Confusion matrix:\n",
      " [[407   2]\n",
      " [  0  41]]\n",
      "Accuracy:1.00\n",
      "Precision:1.00\n",
      "Recall:0.95\n",
      "F1:0.98\n"
     ]
    }
   ],
   "source": [
    "print('---svm---')\n",
    "print('Confusion matrix:\\n',confusion_svm)\n",
    "print('Accuracy:{:.2f}'.format(accuracy_score(y_test,y_svm_pred)))\n",
    "print('Precision:{:.2f}'.format(precision_score(y_test,y_svm_pred)))\n",
    "print('Recall:{:.2f}'.format(recall_score(y_test,y_svm_pred)))\n",
    "print('F1:{:.2f}'.format(f1_score(y_test,y_svm_pred)))"
   ]
  },
  {
   "cell_type": "code",
   "execution_count": 32,
   "id": "athletic-excuse",
   "metadata": {},
   "outputs": [
    {
     "name": "stdout",
     "output_type": "stream",
     "text": [
      "---logistic---\n",
      "              precision    recall  f1-score   support\n",
      "\n",
      "       not 1       0.99      0.99      0.99       407\n",
      "           1       0.86      0.86      0.86        43\n",
      "\n",
      "    accuracy                           0.97       450\n",
      "   macro avg       0.92      0.92      0.92       450\n",
      "weighted avg       0.97      0.97      0.97       450\n",
      "\n",
      "---svm---\n",
      "              precision    recall  f1-score   support\n",
      "\n",
      "       not 1       1.00      1.00      1.00       407\n",
      "           1       1.00      0.95      0.98        43\n",
      "\n",
      "    accuracy                           1.00       450\n",
      "   macro avg       1.00      0.98      0.99       450\n",
      "weighted avg       1.00      1.00      1.00       450\n",
      "\n"
     ]
    }
   ],
   "source": [
    "from sklearn.metrics import classification_report\n",
    "print('---logistic---')\n",
    "print(classification_report(y_test,y_logistic_pred,target_names=['not 1','1']))\n",
    "print('---svm---')\n",
    "print(classification_report(y_test,y_svm_pred,target_names=['not 1','1']))\n"
   ]
  }
 ],
 "metadata": {
  "kernelspec": {
   "display_name": "Python 3",
   "language": "python",
   "name": "python3"
  },
  "language_info": {
   "codemirror_mode": {
    "name": "ipython",
    "version": 3
   },
   "file_extension": ".py",
   "mimetype": "text/x-python",
   "name": "python",
   "nbconvert_exporter": "python",
   "pygments_lexer": "ipython3",
   "version": "3.8.3"
  }
 },
 "nbformat": 4,
 "nbformat_minor": 5
}
