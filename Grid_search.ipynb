{
 "cells": [
  {
   "cell_type": "code",
   "execution_count": 6,
   "id": "approximate-center",
   "metadata": {},
   "outputs": [],
   "source": [
    "from sklearn.svm import SVC\n",
    "from sklearn.model_selection import GridSearchCV\n",
    "from sklearn.metrics import roc_auc_score\n",
    "from sklearn import datasets\n",
    "from sklearn.model_selection import train_test_split"
   ]
  },
  {
   "cell_type": "code",
   "execution_count": 10,
   "id": "normal-patent",
   "metadata": {},
   "outputs": [],
   "source": [
    "dataset=datasets.load_digits()\n",
    "X,y =dataset.data, dataset.target==1\n",
    "X_train, X_test, y_train, y_test=train_test_split(X,y,random_state=0)\n",
    "\n",
    "clf=SVC(kernel='rbf')\n",
    "grid_values={'gamma':[0.001,0.01,0.05,0.1,1,10,100]}"
   ]
  },
  {
   "cell_type": "code",
   "execution_count": 15,
   "id": "fifty-flight",
   "metadata": {},
   "outputs": [],
   "source": [
    "#default metric to optimize over grid parameters: accuracy\n",
    "grid_clf_acc = GridSearchCV(clf,param_grid = grid_values)\n",
    "grid_clf_acc.fit(X_train, y_train)\n",
    "y_decision_fn_scores_auc = grid_clf_acc.decision_function(X_test)\n"
   ]
  },
  {
   "cell_type": "code",
   "execution_count": 16,
   "id": "insured-fishing",
   "metadata": {},
   "outputs": [
    {
     "name": "stdout",
     "output_type": "stream",
     "text": [
      "Grid best paramter (max.accuracy): {'gamma': 0.001}\n",
      "Grid best score (accuracy):  0.9985157648354676\n",
      "Test set AUC :  0.99982858122393\n"
     ]
    }
   ],
   "source": [
    "print('Grid best paramter (max.accuracy):', grid_clf_acc.best_params_)\n",
    "print('Grid best score (accuracy): ', grid_clf_acc.best_score_)\n",
    "print('Test set AUC : ',roc_auc_score(y_test,y_decision_fn_scores_auc))"
   ]
  },
  {
   "cell_type": "markdown",
   "id": "nasty-catalog",
   "metadata": {},
   "source": [
    "#### Alternative metric to optimize over grid paramters: AUC"
   ]
  },
  {
   "cell_type": "code",
   "execution_count": 21,
   "id": "conservative-continent",
   "metadata": {},
   "outputs": [],
   "source": [
    "grid_clf_auc=GridSearchCV(clf, param_grid =grid_values, scoring='roc_auc')\n",
    "grid_clf_auc.fit(X_train,y_train)\n",
    "y_decision_fn_scores_auc=grid_clf_auc.decision_function(X_test)"
   ]
  },
  {
   "cell_type": "code",
   "execution_count": 24,
   "id": "neural-section",
   "metadata": {},
   "outputs": [
    {
     "name": "stdout",
     "output_type": "stream",
     "text": [
      "Test set AUC:  0.99982858122393\n",
      "Grid best parameter (max. AUC): {'gamma': 0.001}\n",
      "Grid best score (AUC): 1.0\n"
     ]
    }
   ],
   "source": [
    "print('Test set AUC: ', roc_auc_score(y_test, y_decision_fn_scores_auc))\n",
    "print('Grid best parameter (max. AUC):', grid_clf_auc.best_params_)\n",
    "print('Grid best score (AUC):',grid_clf_auc.best_score_)"
   ]
  }
 ],
 "metadata": {
  "kernelspec": {
   "display_name": "Python 3",
   "language": "python",
   "name": "python3"
  },
  "language_info": {
   "codemirror_mode": {
    "name": "ipython",
    "version": 3
   },
   "file_extension": ".py",
   "mimetype": "text/x-python",
   "name": "python",
   "nbconvert_exporter": "python",
   "pygments_lexer": "ipython3",
   "version": "3.8.3"
  }
 },
 "nbformat": 4,
 "nbformat_minor": 5
}
