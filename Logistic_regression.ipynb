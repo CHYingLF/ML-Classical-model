{
 "cells": [
  {
   "cell_type": "code",
   "execution_count": 14,
   "id": "furnished-divide",
   "metadata": {},
   "outputs": [],
   "source": [
    "from sklearn.linear_model import LogisticRegression\n",
    "import pandas as pd\n",
    "from sklearn.model_selection import train_test_split\n",
    "\n",
    "fruits=pd.read_table('../All/course3_downloads/fruit_data_with_colors.txt')\n",
    "#print(fruits.head())\n",
    "\n",
    "feature_fruits=['mass','width','height','color_score']\n",
    "X_fruits=fruits[feature_fruits]\n",
    "y_fruits=fruits['fruit_label']"
   ]
  },
  {
   "cell_type": "code",
   "execution_count": 19,
   "id": "respected-halifax",
   "metadata": {},
   "outputs": [],
   "source": [
    "X_train, X_test, y_train,y_test=train_test_split(X_fruits,y_fruits)\n",
    "y_apple=y_train==1\n",
    "y_apple_test=y_test==1"
   ]
  },
  {
   "cell_type": "code",
   "execution_count": 29,
   "id": "engaging-argentina",
   "metadata": {},
   "outputs": [
    {
     "name": "stdout",
     "output_type": "stream",
     "text": [
      "Accuracy for logistic regression on train data is 0.8409\n",
      "Accuracy for logistic regression on test data is 0.7333\n"
     ]
    }
   ],
   "source": [
    "clf=LogisticRegression(C=10).fit(X_train,y_apple) #C parameter need to be adjusted\n",
    "print('Accuracy for logistic regression on train data is {:.4f}'.format(clf.score(X_train,y_apple)))\n",
    "print('Accuracy for logistic regression on test data is {:.4f}'.format(clf.score(X_test,y_apple_test)))"
   ]
  }
 ],
 "metadata": {
  "kernelspec": {
   "display_name": "Python 3",
   "language": "python",
   "name": "python3"
  },
  "language_info": {
   "codemirror_mode": {
    "name": "ipython",
    "version": 3
   },
   "file_extension": ".py",
   "mimetype": "text/x-python",
   "name": "python",
   "nbconvert_exporter": "python",
   "pygments_lexer": "ipython3",
   "version": "3.8.3"
  }
 },
 "nbformat": 4,
 "nbformat_minor": 5
}
